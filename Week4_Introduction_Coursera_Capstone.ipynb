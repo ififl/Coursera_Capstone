{
 "cells": [
  {
   "cell_type": "markdown",
   "metadata": {},
   "source": [
    "## Exploring neighborhood - Intrudiction (part 1 of Capstone Project)"
   ]
  },
  {
   "cell_type": "markdown",
   "metadata": {},
   "source": [
    "### Introduction\n",
    "STEM education (where STEM stands for **S**cience, **T**echnology, **E**ngineering, **M**athematics) is not new for developed countries where technical education is already a part of studying at schools. However, in developing countries like Ukraine where I am from, functions of STEM education still rare at regular schools and delivered as services by Technic clubs. So it is up to parents/kid whether he would attend such courses.\n",
    "\n",
    "On the other side such clubs themselves are commercial projects with profit as an aim. Though more and more clubs opening last years there is still great share of market of technical education for children to be covered. And the most lucrative is opening new Robotics club in Kyiv - the capital of Ukraine with about 3Mio people living there. \n",
    "\n",
    "Starting such business is not hard - couple of franchise offers is readily available. But the main challenge that would define success of this business is **choosing proper place to start** - that is where Foursquare and data analysis come into force."
   ]
  },
  {
   "cell_type": "markdown",
   "metadata": {},
   "source": [
    "#### Business problem\n",
    "Mistake in choosing the place in this case might cost existence of business and loss of large part of investment. Hence entrepreneur, planning to start this business, as the main stakeholder, should be desirable for support in this choice\n",
    "\n",
    "To choose best place for starting Robotics club we need to take into account many aspects, most important are:\n",
    "- How to divide the city into neighborhoods (no such information readily available so decision must be taken)\n",
    "- Amount of schools in neighborhood (the more - the better)\n",
    "- Amount of rivals (technical / math courses for school children, the less - the better)\n",
    "- Amount of other not technical courses for same auditory (they might be interested in other education as well)\n",
    "- Cost of rent (requires some work to get some indirect markers of price from Foursquare while rent prices not available there)\n",
    "\n",
    "Obviously exploring Foursquare data for the city would answer most of above questions (and with some enhancements described in data section - all of them) so let us move on to define what data can we collect and which way to use it."
   ]
  }
 ],
 "metadata": {
  "kernelspec": {
   "display_name": "Python",
   "language": "python",
   "name": "conda-env-python-py"
  },
  "language_info": {
   "codemirror_mode": {
    "name": "ipython",
    "version": 3
   },
   "file_extension": ".py",
   "mimetype": "text/x-python",
   "name": "python",
   "nbconvert_exporter": "python",
   "pygments_lexer": "ipython3",
   "version": "3.6.7"
  }
 },
 "nbformat": 4,
 "nbformat_minor": 4
}
